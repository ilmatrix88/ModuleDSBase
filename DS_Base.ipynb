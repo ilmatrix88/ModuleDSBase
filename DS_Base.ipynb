{
  "nbformat": 4,
  "nbformat_minor": 0,
  "metadata": {
    "colab": {
      "provenance": []
    },
    "kernelspec": {
      "name": "python3",
      "display_name": "Python 3"
    },
    "language_info": {
      "name": "python"
    }
  },
  "cells": [
    {
      "cell_type": "markdown",
      "source": [
        "**Навигация по уроку**\n",
        "\n",
        "1. [Введение в Data Science](https://colab.research.google.com/drive/1OzEE1Y-T_p8rqJHxAm7S8iO76Hx6Jox3)\n",
        "2. [Практика](https://colab.research.google.com/drive/1sPc9RcTh9oMzyLffhNorD-Hh2kQlMhCC)\n",
        "3. Домашняя работа"
      ],
      "metadata": {
        "id": "8LIWrmOPjBO6"
      }
    },
    {
      "cell_type": "markdown",
      "source": [
        "## Задача 1. Книги без буквы E."
      ],
      "metadata": {
        "id": "ZzjUAyrL6jgO"
      }
    },
    {
      "cell_type": "markdown",
      "source": [
        "**Условие.** В истории литературы известен случай написания романа объемом около\n",
        "50 тыс. слов, в котором ни разу не была употреблена самая популярная\n",
        "в английском алфавите буква E. Название его – «Gadsby».\n",
        "Напишите программу, которая будет считывать список слов из файла и собирать статистику о том, в каком проценте слов используется каждая буква алфавита. Выведите результат для всех 26 букв английского алфавита и отдельно отметьте букву, которая встречалась в словах наиболее редко. В  вашей программе должны игнорироваться знаки препинания и регистр символов.\n"
      ],
      "metadata": {
        "id": "M4OAOB6s6mU7"
      }
    },
    {
      "cell_type": "markdown",
      "source": [
        "**Подсказки.**\n",
        "1. Переведите все слова в верхний регистр:\n",
        "```\n",
        "word = word.upper().rstrip() # upper - переводит строку в верхний регистр\n",
        "```\n",
        "2. Создайте словарь со счетчиком слов, содержащий каждую букву\n",
        "```\n",
        "# Для каждой буквы инициализируем счетчик нулем\n",
        "counts = {}\n",
        "for ch in \"ABCDEFGHIJKLMNOPQRSTUVWXYZ\":\n",
        "       counts[ch] = 0\n",
        "```\n",
        "3. Наиболее редко используемое слово можно найти следующим образом:\n",
        "```\n",
        "smallest_count = min(counts.values()) # min - возвращает наименьшее число в списке\n",
        "```"
      ],
      "metadata": {
        "id": "1X5QIF1nryYd"
      }
    },
    {
      "cell_type": "code",
      "source": [
        "#Решение\n",
        "#\n",
        "# Создаём файл, и записываем в него слова, которые будем считать\n",
        "import string\n",
        "my_file = open(\"words.txt\", \"w\")\n",
        "my_file.write(\"Aab BBca CCDA\")\n",
        "my_file.close()\n",
        "def count_letters(filename):\n",
        "# Создаём словарь для подсчета букв\n",
        "    letter_counts = {letter: 0 for letter in string.ascii_uppercase}\n",
        "    total_words = 0\n",
        "# Считываем каждое слово из файла\n",
        "    with open(filename, 'r') as file:\n",
        "        for line in file:\n",
        "# Удаляем знаки препинания и переводим в верхний регистр\n",
        "            line = line.translate(str.maketrans('', '', string.punctuation)).upper()\n",
        "            words = line.split()\n",
        "            total_words += len(words)\n",
        "\n",
        "# Подсчитываем буквы в словах\n",
        "            for word in words:\n",
        "                for letter in set(word):\n",
        "                    if letter in letter_counts:\n",
        "                        letter_counts[letter] += 1\n",
        "\n",
        "# Вычисляем процент использования каждой буквы\n",
        "    for letter in letter_counts:\n",
        "        letter_counts[letter] = (letter_counts[letter] / total_words) * 100\n",
        "\n",
        "# Находим букву, которая встречалась в словах наименее часто\n",
        "    least_common_letter = min(letter_counts, key=letter_counts.get)\n",
        "\n",
        "    return letter_counts, least_common_letter\n",
        "\n",
        "filename = 'words.txt'\n",
        "letter_counts, least_common_letter = count_letters(filename)\n",
        "\n",
        "# Выводим результат на экран\n",
        "for letter, count in letter_counts.items():\n",
        "    print(f'Буква {letter} использована в {count}% слов')\n",
        "\n",
        "print(f'Буква, которая встречалась в словах наименее часто: {least_common_letter}')\n"
      ],
      "metadata": {
        "id": "C2W-ZDOF6mzF",
        "colab": {
          "base_uri": "https://localhost:8080/"
        },
        "outputId": "803c8f96-2275-48e7-f94d-e6440eef0f10"
      },
      "execution_count": null,
      "outputs": [
        {
          "output_type": "stream",
          "name": "stdout",
          "text": [
            "Буква A использована в 100.0% слов\n",
            "Буква B использована в 66.66666666666666% слов\n",
            "Буква C использована в 66.66666666666666% слов\n",
            "Буква D использована в 33.33333333333333% слов\n",
            "Буква E использована в 0.0% слов\n",
            "Буква F использована в 0.0% слов\n",
            "Буква G использована в 0.0% слов\n",
            "Буква H использована в 0.0% слов\n",
            "Буква I использована в 0.0% слов\n",
            "Буква J использована в 0.0% слов\n",
            "Буква K использована в 0.0% слов\n",
            "Буква L использована в 0.0% слов\n",
            "Буква M использована в 0.0% слов\n",
            "Буква N использована в 0.0% слов\n",
            "Буква O использована в 0.0% слов\n",
            "Буква P использована в 0.0% слов\n",
            "Буква Q использована в 0.0% слов\n",
            "Буква R использована в 0.0% слов\n",
            "Буква S использована в 0.0% слов\n",
            "Буква T использована в 0.0% слов\n",
            "Буква U использована в 0.0% слов\n",
            "Буква V использована в 0.0% слов\n",
            "Буква W использована в 0.0% слов\n",
            "Буква X использована в 0.0% слов\n",
            "Буква Y использована в 0.0% слов\n",
            "Буква Z использована в 0.0% слов\n",
            "Буква, которая встречалась в словах наименее часто: E\n"
          ]
        }
      ]
    },
    {
      "cell_type": "markdown",
      "source": [
        "## Задание 2. Веб-скрейпинг ИИ новостей"
      ],
      "metadata": {
        "id": "m5K8F02cbJ3c"
      }
    },
    {
      "cell_type": "markdown",
      "source": [
        "**Описание задания.** Используя пример веб-скрейпинга практической части урока, проведите скрейпинг сайта с новостями из сферы ИИ (https://2051.vision/category/ii/), выведите на экран заголовки новостей."
      ],
      "metadata": {
        "id": "LPb3n5UqbRAD"
      }
    },
    {
      "cell_type": "code",
      "source": [
        "#Решение\n",
        "#\n",
        "import requests\n",
        "from bs4 import BeautifulSoup\n",
        "#Формируем URL, создаём GET-запрос, проводим вэб-скрейпинг сайта и ищем все заголовки\n",
        "url = 'https://2051.vision/category/ii/'\n",
        "response = requests.get(url)\n",
        "soup = BeautifulSoup(response.text, 'html.parser')\n",
        "news_titles = soup.find_all('h3', class_='entry-title')\n",
        "# Выводим полученные заголовки на экран\n",
        "for title in news_titles:\n",
        "    print(title.text)"
      ],
      "metadata": {
        "id": "E2UFxRjFi_aW",
        "colab": {
          "base_uri": "https://localhost:8080/"
        },
        "outputId": "15a8dce0-743e-4d0d-f126-a6bb2e6064e8"
      },
      "execution_count": null,
      "outputs": [
        {
          "output_type": "stream",
          "name": "stdout",
          "text": [
            "OpenAI запустила GPT Store\n",
            "Итоги-2023. ТОП новостей из области ИИ\n",
            "Как я перестал бояться и полюбил нейросети: ученые оценили риск вымирания человечества из-за ИИ\n",
            "NYT подала в суд на OpenAI и Microsoft\n",
            "На канале Visioner 2051 новый выпуск: Руслан Ахтямов\n",
            "Росcийские ученые создали самый эффективный в мире алгоритм обучения ИИ\n",
            "Новая идея для «Черного зеркала»: ИИ предсказал судьбу датчан\n",
            "Фейк на фейке: ИИ генерирует все больше новостей\n",
            "Google запустила AI Studio\n",
            "В бразильском Порту-Аллегри отменили плату за установку счетчиков воды взамен украденных\n",
            "OpenAI запустила GPT Store\n",
            "Новый имплантат позволяет изучать глубокие слои мозга\n",
            "Hyundai parts group Mobis на CES представила доработанный Ioniq 5\n",
            "XPeng объявил о старте продаж Land Aircraft Carrier в Китае в 2025 году\n"
          ]
        }
      ]
    }
  ]
}